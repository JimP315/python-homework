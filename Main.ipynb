{
 "cells": [
  {
   "cell_type": "code",
   "execution_count": 6,
   "id": "392f79a1",
   "metadata": {},
   "outputs": [],
   "source": [
    "# Assessing data on profit figures per month from 2010 - 2017. \n",
    "# Need to sum the number of months, and the net resulting Profit and loss figure for those months\n",
    "# Formulas needed:  averages of changes in Profit and Losses over the full period \n",
    "# greatest increase in profits date and amount over full period \n",
    "# greatest decrease in profits - date and amount over full period \n",
    "# From the pathlib library, import the main class Path\n",
    "from pathlib import Path\n",
    "import csv\n",
    "\n"
   ]
  },
  {
   "cell_type": "code",
   "execution_count": 7,
   "id": "bbf1a895-c39c-41b0-b811-70b7e344fccc",
   "metadata": {},
   "outputs": [
    {
     "name": "stdout",
     "output_type": "stream",
     "text": [
      "Current Working Directory: C:\\Users\\jimp\\Homework\\python-homework\n"
     ]
    }
   ],
   "source": [
    "# Check the current directory where the Python program is executing from\n",
    "print(f\"Current Working Directory: {Path.cwd()}\")\n",
    "#initiailise data/vari\n",
    "\n",
    "line_num = 0\n",
    "profit = 0\n",
    "profit_dates = []\n",
    "profit_sum = 0\n",
    "max_pl = 0\n",
    "min_pl = 1000000\n",
    "net_change = [] \n",
    "\n"
   ]
  },
  {
   "cell_type": "code",
   "execution_count": 25,
   "id": "88c7b4c2-b73f-4676-bd75-1e763958a66a",
   "metadata": {},
   "outputs": [],
   "source": [
    "# Open file to read mode \n",
    "# store the contents in the variable 'file'\n",
    "budget_data_csv = Path('PyBank/budget_data.csv')\n",
    "with open (budget_data_csv, 'r') as csvfile:\n",
    "    #print (typecsv_reader)\n",
    "\n",
    "    csv_reader = csv.reader(csvfile, delimiter = ',')\n",
    "  #read in all text in the file as string\n",
    "    \n",
    "     # print(type(csv_reader))\n",
    "    \n",
    "    header = next(csv_reader)\n",
    "    # print(f\"{header} <-- HEADER\")\n",
    "    first_row = next(csv_reader)\n",
    "    line_num = 1\n",
    "    profit = (int(first_row[1]))\n",
    "    profit_sum = (int(first_row[1]))\n",
    "    previous_profit = (int(first_row[1]))\n",
    "    \n",
    "    for row in csv_reader:\n",
    "        # print(row)\n",
    "        line_num += 1\n",
    "        profit_sum = profit_sum + (int(row[1]))\n",
    "        profit = (int(row[1])) - previous_profit\n",
    "        previous_profit = (int(row[1]))\n",
    "        if max_pl > net_change \n",
    "        print max_pl \n",
    "        else \n",
    "        \n",
    "        net_change.append(profit)\n",
    "        profit_dates.append(row[0])\n",
    "        \n",
    "       \n",
    "        #min pl date = row at zero \n",
    "        \n",
    "# print(average_change_profit)\n",
    "\n",
    "\n",
    "\n",
    "\n",
    "\n",
    "\n",
    "\n"
   ]
  },
  {
   "cell_type": "code",
   "execution_count": 1,
   "id": "1c7e4ed4-647f-4d0b-9dda-6cf722db91a9",
   "metadata": {},
   "outputs": [
    {
     "ename": "SyntaxError",
     "evalue": "invalid syntax (Temp/ipykernel_628/3762673557.py, line 2)",
     "output_type": "error",
     "traceback": [
      "\u001b[1;36m  File \u001b[1;32m\"C:\\Users\\jimp\\AppData\\Local\\Temp/ipykernel_628/3762673557.py\"\u001b[1;36m, line \u001b[1;32m2\u001b[0m\n\u001b[1;33m    min(iterable, *[, key, default]) #i am doing this late at night, and stuck here.\u001b[0m\n\u001b[1;37m                    ^\u001b[0m\n\u001b[1;31mSyntaxError\u001b[0m\u001b[1;31m:\u001b[0m invalid syntax\n"
     ]
    }
   ],
   "source": [
    "#need to locate greatest change in profit uplift & date and also profit downturn \n",
    "min(iterable, *[, key, default]) #i am doing this late at night, and stuck here.             \n",
    "max_pl = max(net_change)\n",
    "max_pl_index = net_change(max_pl)\n",
    "profit_dates = budget_data_csv[max_pl_index][0]\n",
    "print (max_pl_index, profit_dates)    \n",
    "       \n",
    "min_pl = max(net_change)\n",
    "min_pl_index = net_change(min_pl)\n",
    "profit_dates = budget_data_csv[min_pl_index][0]\n",
    "print (min_pl_index, profit_dates)"
   ]
  },
  {
   "cell_type": "code",
   "execution_count": 36,
   "id": "3cef882a-f27c-411d-98cc-d4fdc42c3802",
   "metadata": {},
   "outputs": [
    {
     "ename": "NameError",
     "evalue": "name 'max_pl_pd' is not defined",
     "output_type": "error",
     "traceback": [
      "\u001b[1;31m---------------------------------------------------------------------------\u001b[0m",
      "\u001b[1;31mNameError\u001b[0m                                 Traceback (most recent call last)",
      "\u001b[1;32m~\\AppData\\Local\\Temp/ipykernel_10408/2354928249.py\u001b[0m in \u001b[0;36m<module>\u001b[1;34m\u001b[0m\n\u001b[0;32m     15\u001b[0m     \u001b[0mtxt_file\u001b[0m\u001b[1;33m.\u001b[0m\u001b[0mwrite\u001b[0m\u001b[1;33m(\u001b[0m\u001b[1;34mf\"------------------------\\n\"\u001b[0m\u001b[1;33m)\u001b[0m\u001b[1;33m\u001b[0m\u001b[1;33m\u001b[0m\u001b[0m\n\u001b[0;32m     16\u001b[0m     \u001b[0mtxt_file\u001b[0m\u001b[1;33m.\u001b[0m\u001b[0mwrite\u001b[0m\u001b[1;33m(\u001b[0m\u001b[1;34mf\"Average Change: ${average_change_profit}\"\u001b[0m\u001b[1;33m)\u001b[0m\u001b[1;33m\u001b[0m\u001b[1;33m\u001b[0m\u001b[0m\n\u001b[1;32m---> 17\u001b[1;33m     \u001b[0mtxt_file\u001b[0m\u001b[1;33m.\u001b[0m\u001b[0mwrite\u001b[0m\u001b[1;33m(\u001b[0m\u001b[1;34mf\"Greatest Increase of Profits: ${max_pl_index} on {max_pl_pd}\"\u001b[0m\u001b[1;33m)\u001b[0m\u001b[1;33m\u001b[0m\u001b[1;33m\u001b[0m\u001b[0m\n\u001b[0m\u001b[0;32m     18\u001b[0m     \u001b[0mtxt_file\u001b[0m\u001b[1;33m.\u001b[0m\u001b[0mwrite\u001b[0m\u001b[1;33m(\u001b[0m\u001b[1;34mf\"Greatest Decrease of Profits: ${min_pl_index} on {min_pl_pd}\"\u001b[0m\u001b[1;33m)\u001b[0m\u001b[1;33m\u001b[0m\u001b[1;33m\u001b[0m\u001b[0m\n",
      "\u001b[1;31mNameError\u001b[0m: name 'max_pl_pd' is not defined"
     ]
    }
   ],
   "source": [
    "# print(f\"Financial Data\")\n",
    "# print(f\"----------------------------\")\n",
    "# print(f\"Total Months: {line_num} \")\n",
    "# print(f\"Total: ${profit_sum}\")\n",
    "# print(f\"Average Change: ${average_change_profit}\")\n",
    "# print(f\"Greatest Increase in Profits: ${max_pl} on {max_pl_date}\")\n",
    "# print(f\"Greatest Decrease in Profits: ${min_pl} on {min_pl_date}\")output_path = Path('Financial_Data.txt')\n",
    "\n",
    "with open(output_path, 'w') as txt_file:\n",
    "    txt_file.write(f\"Financial Data\\n\")\n",
    "    txt_file.write(f\"------------------------\\n\")\n",
    "    txt_file.write(f\"Total Months: {line_num} \")\n",
    "    txt_file.write(f\"------------------------\\n\")\n",
    "    txt_file.write(f\"Total: ${profit_sum}\")\n",
    "    txt_file.write(f\"------------------------\\n\")\n",
    "    txt_file.write(f\"Average Change: ${average_change_profit}\")\n",
    "    txt_file.write(f\"Greatest Increase of Profits: ${max_pl_index} on {profit_dates}\")\n",
    "    txt_file.write(f\"Greatest Decrease of Profits: ${min_pl_index} on {profit_dates}\")"
   ]
  },
  {
   "cell_type": "code",
   "execution_count": null,
   "id": "73c20b50-77d2-43a9-8d69-c0137a63fcb6",
   "metadata": {},
   "outputs": [],
   "source": []
  }
 ],
 "metadata": {
  "interpreter": {
   "hash": "2be5faf79681da6f2a61fdfdd5405d65d042280f7fba6178067603e3a2925119"
  },
  "kernelspec": {
   "display_name": "Python 3 (ipykernel)",
   "language": "python",
   "name": "python3"
  },
  "language_info": {
   "codemirror_mode": {
    "name": "ipython",
    "version": 3
   },
   "file_extension": ".py",
   "mimetype": "text/x-python",
   "name": "python",
   "nbconvert_exporter": "python",
   "pygments_lexer": "ipython3",
   "version": "3.7.11"
  }
 },
 "nbformat": 4,
 "nbformat_minor": 5
}
