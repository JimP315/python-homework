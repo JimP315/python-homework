{
 "cells": [
  {
   "cell_type": "code",
   "execution_count": 6,
   "id": "392f79a1",
   "metadata": {},
   "outputs": [],
   "source": [
    "# Assessing data on profit figures per month from 2010 - 2017. \n",
    "# Need to sum the number of months, and the net resulting Profit and loss figure for those months\n",
    "# Formulas needed:  averages of changes in Profit and Losses over the full period \n",
    "# greatest increase in profits date and amount over full period \n",
    "# greatest decrease in profits - date and amount over full period \n",
    "# From the pathlib library, import the main class Path\n",
    "from pathlib import Path\n",
    "import csv\n",
    "\n"
   ]
  },
  {
   "cell_type": "code",
   "execution_count": 7,
   "id": "bbf1a895-c39c-41b0-b811-70b7e344fccc",
   "metadata": {},
   "outputs": [
    {
     "name": "stdout",
     "output_type": "stream",
     "text": [
      "Current Working Directory: C:\\Users\\jimp\\Homework\\python-homework\n"
     ]
    }
   ],
   "source": [
    "# Check the current directory where the Python program is executing from\n",
    "print(f\"Current Working Directory: {Path.cwd()}\")\n",
    "\n",
    "line_num = 0\n",
    "profit = 0\n",
    "profit_dates = []\n",
    "profit_sum = 0\n",
    "max_pl = 0\n",
    "min_pl = 1000000\n",
    "net_change = [] \n",
    "\n"
   ]
  },
  {
   "cell_type": "code",
   "execution_count": 11,
   "id": "88c7b4c2-b73f-4676-bd75-1e763958a66a",
   "metadata": {},
   "outputs": [],
   "source": [
    "# Open file to read mode \n",
    "# store the contents in the variable 'file'\n",
    "budget_data_csv = Path('PyBank/budget_data.csv')\n",
    "with open (budget_data_csv, 'r') as csvfile:\n",
    "    #print (typecsv_reader)\n",
    "\n",
    "    csv_reader = csv.reader(csvfile, delimiter = ',')\n",
    "  #read in all text in the file as string\n",
    "    \n",
    "     # print(type(csv_reader))\n",
    "    \n",
    "    header = next(csv_reader)\n",
    "    # print(f\"{header} <-- HEADER\")\n",
    "    first_row = next(csv_reader)\n",
    "    line_num = 1\n",
    "    profit = (int(first_row[1]))\n",
    "    profit_sum = (int(first_row[1]))\n",
    "    previous_profit = (int(first_row[1]))\n",
    "    \n",
    "    for row in csv_reader:\n",
    "        # print(row)\n",
    "        line_num += 1\n",
    "        profit_sum = profit_sum + (int(row[1]))\n",
    "        profit = (int(row[1])) - previous_profit\n",
    "        previous_profit = (int(row[1]))\n",
    "        net_change.append(profit)\n",
    "        profit_dates.append(row[0])\n",
    "        \n",
    "        if profit < min_pl:\n",
    "            min_pl = profit\n",
    "        if profit > max_pl:    \n",
    "            max_pl = profit\n",
    "        #min pl date = row at zero \n",
    "\n",
    "# print(average_change_profit)\n",
    "\n",
    "#need to define average change profit here \n",
    "#round and sum up list net change and divide by len\n",
    "    \n",
    "        \n",
    "\n",
    "#max_pl_date = profit_dates[max_pl_index]\n",
    "#min_pl_date = profit_dates[min_pl_index]\n",
    "\n",
    "# print(f\"Financial Data\")\n",
    "# print(f\"----------------------------\")\n",
    "# print(f\"Total Months: {line_num} \")\n",
    "# print(f\"Total: ${profit_sum}\")\n",
    "# print(f\"Average Change: ${average_change_profit}\")\n",
    "# print(f\"Greatest Increase in Profits: ${max_pl} on {max_pl_date}\")\n",
    "# print(f\"Greatest Decrease in Profits: ${min_pl} on {min_pl_date}\")\n"
   ]
  },
  {
   "cell_type": "code",
   "execution_count": 12,
   "id": "1c7e4ed4-647f-4d0b-9dda-6cf722db91a9",
   "metadata": {},
   "outputs": [],
   "source": [
    "\n",
    "output_path = Path('Financial_Data.txt')\n",
    "\n",
    "with open(output_path, 'w') as txt_file:\n",
    "    txt_file.write(f\"Financial Data\\n\")\n",
    "    txt_file.write(f\"------------------------\\n\")\n",
    "    txt_file.write(f\"Total Months: {line_num} \")\n",
    "    txt_file.write(f\"Total: ${profit_sum}\")\n",
    "    txt_file.write(f\"Average Change: ${average_change_profit}\")\n",
    "    #txt_file.write(f\"Greatest Increase of Profits: ${max_pl} on {max_pl_date}\")\n",
    "    #txt_file.write(f\"Greatest Decrease of Profits: ${min_pl} on {min_pl_date}\")"
   ]
  },
  {
   "cell_type": "code",
   "execution_count": null,
   "id": "3cef882a-f27c-411d-98cc-d4fdc42c3802",
   "metadata": {},
   "outputs": [],
   "source": []
  }
 ],
 "metadata": {
  "interpreter": {
   "hash": "2be5faf79681da6f2a61fdfdd5405d65d042280f7fba6178067603e3a2925119"
  },
  "kernelspec": {
   "display_name": "Python 3 (ipykernel)",
   "language": "python",
   "name": "python3"
  },
  "language_info": {
   "codemirror_mode": {
    "name": "ipython",
    "version": 3
   },
   "file_extension": ".py",
   "mimetype": "text/x-python",
   "name": "python",
   "nbconvert_exporter": "python",
   "pygments_lexer": "ipython3",
   "version": "3.7.11"
  }
 },
 "nbformat": 4,
 "nbformat_minor": 5
}
